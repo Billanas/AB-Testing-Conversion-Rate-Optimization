{
 "cells": [
  {
   "cell_type": "code",
   "execution_count": 17,
   "id": "cb5c5964",
   "metadata": {},
   "outputs": [],
   "source": [
    "import pandas as pd\n",
    "import numpy as np\n",
    "from statsmodels.stats.proportion import proportions_ztest, proportion_confint"
   ]
  },
  {
   "cell_type": "code",
   "execution_count": 18,
   "id": "2f1d65f3",
   "metadata": {},
   "outputs": [],
   "source": [
    "df = pd.read_csv('/home/billys/Downloads/ab_test_dataset.csv')"
   ]
  },
  {
   "cell_type": "code",
   "execution_count": 19,
   "id": "1232efee",
   "metadata": {},
   "outputs": [],
   "source": [
    "n_A = df[df['Variant'] == 'A'].shape[0]\n",
    "n_B = df[df['Variant'] == 'B'].shape[0]"
   ]
  },
  {
   "cell_type": "code",
   "execution_count": 20,
   "id": "cbcf828f",
   "metadata": {},
   "outputs": [],
   "source": [
    "# Data for A/B test\n",
    "conversions_A = df[df['Variant'] == 'A']['Conversion'].sum()\n",
    "conversions_B = df[df['Variant'] == 'B']['Conversion'].sum()\n",
    "nobs = np.array([n_A, n_B])"
   ]
  },
  {
   "cell_type": "code",
   "execution_count": 21,
   "id": "0568babb",
   "metadata": {},
   "outputs": [],
   "source": [
    "# Statistical analysis\n",
    "stat, pval = proportions_ztest([conversions_A, conversions_B], nobs)"
   ]
  },
  {
   "cell_type": "code",
   "execution_count": 22,
   "id": "0c6a848d",
   "metadata": {},
   "outputs": [
    {
     "data": {
      "text/plain": [
       "(-2.121848679514367,\n",
       " 0.03385044725682744,\n",
       " (0.033016218621397656, 0.05898378137860234),\n",
       " (0.05239691395203145, 0.08360308604796857))"
      ]
     },
     "execution_count": 22,
     "metadata": {},
     "output_type": "execute_result"
    }
   ],
   "source": [
    "# Confidence intervals\n",
    "confint_A = proportion_confint(conversions_A, nobs[0], alpha=0.05)\n",
    "confint_B = proportion_confint(conversions_B, nobs[1], alpha=0.05)\n",
    "\n",
    "(stat, pval, confint_A, confint_B)"
   ]
  }
 ],
 "metadata": {
  "kernelspec": {
   "display_name": "Python 3 (ipykernel)",
   "language": "python",
   "name": "python3"
  },
  "language_info": {
   "codemirror_mode": {
    "name": "ipython",
    "version": 3
   },
   "file_extension": ".py",
   "mimetype": "text/x-python",
   "name": "python",
   "nbconvert_exporter": "python",
   "pygments_lexer": "ipython3",
   "version": "3.9.5"
  }
 },
 "nbformat": 4,
 "nbformat_minor": 5
}
